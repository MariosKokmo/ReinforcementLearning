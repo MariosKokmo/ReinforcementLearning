{
 "cells": [
  {
   "cell_type": "code",
   "execution_count": 1,
   "metadata": {},
   "outputs": [],
   "source": [
    "%matplotlib inline \n"
   ]
  },
  {
   "cell_type": "code",
   "execution_count": 2,
   "metadata": {},
   "outputs": [],
   "source": [
    "import matplotlib\n",
    "import numpy as np\n",
    "import math"
   ]
  },
  {
   "cell_type": "markdown",
   "metadata": {},
   "source": [
    "# # epsilon-greedy"
   ]
  },
  {
   "cell_type": "code",
   "execution_count": 3,
   "metadata": {},
   "outputs": [],
   "source": [
    "#define the bandit class where m is the unknown (for the agent) mean value of return"
   ]
  },
  {
   "cell_type": "code",
   "execution_count": 4,
   "metadata": {},
   "outputs": [],
   "source": [
    "class Bandit():\n",
    "    def __init__(self,m):\n",
    "        self.m = m  # return of the bandit\n",
    "        self.mean = 0 # mean return \n",
    "        self.N =0 # number of times the bandit was pulled\n",
    "    \n",
    "    def pull(self):\n",
    "        return np.random.randn() + self.m\n",
    "    \n",
    "    def update(self,x):\n",
    "        self.N += 1\n",
    "        self.mean = (1 - 1.0/self.N)*self.mean + 1.0/self.N * x"
   ]
  },
  {
   "cell_type": "code",
   "execution_count": 5,
   "metadata": {},
   "outputs": [],
   "source": [
    "def run_experiment(m1,m2,m3,epsilon,N):\n",
    "    bandits = [Bandit(m1), Bandit(m2), Bandit(m3)]\n",
    "    data = np.empty(N) # number of trial pulls\n",
    "    \n",
    "    for i in range(N):\n",
    "        p = np.random.random()\n",
    "        if p < epsilon:\n",
    "            j = np.random.choice(3) # if we are within epsilon we pull at random\n",
    "        else:\n",
    "            j = np.argmax([b.mean for b in bandits]) # else we pull the greedy bandit\n",
    "        x = bandits[j].pull() # the outcome of the pull\n",
    "        bandits[j].update(x) # we update the chosen bandit's mean\n",
    "        \n",
    "        #for the overall plot\n",
    "        data[i]=x\n",
    "    for b in bandits:\n",
    "        print(b.mean)\n",
    "        \n",
    "    cumulative_average = np.cumsum(data)/(np.arange(N)+1)\n",
    "    \n",
    "    matplotlib.pyplot.plot(cumulative_average)\n",
    "    matplotlib.pyplot.plot(np.ones(N)*m1)\n",
    "    matplotlib.pyplot.plot(np.ones(N)*m2)\n",
    "    matplotlib.pyplot.plot(np.ones(N)*m3)\n",
    "    matplotlib.pyplot.xscale('log')\n",
    "    matplotlib.pyplot.show()\n",
    "    \n",
    "    return cumulative_average\n"
   ]
  },
  {
   "cell_type": "code",
   "execution_count": 8,
   "metadata": {},
   "outputs": [
    {
     "name": "stdout",
     "output_type": "stream",
     "text": [
      "0.9849166681587138\n",
      "2.0243902913812324\n",
      "2.9983907374337377\n"
     ]
    },
    {
     "data": {
      "image/png": "[encoded data removed]",
      "text/plain": [
       "<Figure size 432x288 with 1 Axes>"
      ]
     },
     "metadata": {
      "needs_background": "light"
     },
     "output_type": "display_data"
    },
    {
     "data": {
      "text/plain": [
       "<matplotlib.legend.Legend at 0x2be3f195508>"
      ]
     },
     "execution_count": 8,
     "metadata": {},
     "output_type": "execute_result"
    },
    {
     "data": {
      "image/png": "[encoded data removed]",
      "text/plain": [
       "<Figure size 432x288 with 1 Axes>"
      ]
     },
     "metadata": {
      "needs_background": "light"
     },
     "output_type": "display_data"
    }
   ],
   "source": [
    "c_01 = run_experiment(1.0,2.0,3.0, 0.05,10000)\n",
    "matplotlib.pyplot.plot(c_01, label='eps =0.01')\n",
    "matplotlib.pyplot.legend()"
   ]
  },
  {
   "cell_type": "markdown",
   "metadata": {},
   "source": [
    "# Optimistic initial values"
   ]
  },
  {
   "cell_type": "markdown",
   "metadata": {},
   "source": [
    "if the initial values are higher than practically possible, I will be correcting the mean downwards so I will be forced to choose the other bandits that have not been corrected too. We set the upper limit (initial mean) to be higher than the maximum return of the bandits."
   ]
  },
  {
   "cell_type": "code",
   "execution_count": 9,
   "metadata": {},
   "outputs": [],
   "source": [
    "class Bandit_opt():\n",
    "    def __init__(self, m, upper_limit):\n",
    "        self.m = m  # return of the bandit\n",
    "        self.mean = upper_limit # mean return \n",
    "        self.N =0 # number of times the bandit was pulled\n",
    "    \n",
    "    def pull(self):\n",
    "        return np.random.randn() + self.m\n",
    "    \n",
    "    def update(self,x):\n",
    "        self.N += 1\n",
    "        self.mean = (1 - 1.0/self.N)*self.mean + 1.0/self.N * x"
   ]
  },
  {
   "cell_type": "code",
   "execution_count": 10,
   "metadata": {},
   "outputs": [],
   "source": [
    "def run_experiment_opt(m1,m2,m3,N,upper_limit):\n",
    "    bandits = [Bandit_opt(m1,upper_limit), Bandit_opt(m2,upper_limit), Bandit_opt(m3,upper_limit)]\n",
    "    data = np.empty(N) # number of trial pulls\n",
    "    \n",
    "    for i in range(N):\n",
    "        j = np.argmax([b.mean for b in bandits]) # else we pull the greedy bandit\n",
    "        x = bandits[j].pull() # the outcome of the pull\n",
    "        bandits[j].update(x) # we update the chosen bandit's mean\n",
    "        \n",
    "        #for the overall plot\n",
    "        data[i]=x\n",
    "    for b in bandits:\n",
    "        print(b.mean)\n",
    "        \n",
    "    cumulative_average = np.cumsum(data)/(np.arange(N)+1)\n",
    "    \n",
    "    matplotlib.pyplot.plot(cumulative_average)\n",
    "    matplotlib.pyplot.plot(np.ones(N)*m1)\n",
    "    matplotlib.pyplot.plot(np.ones(N)*m2)\n",
    "    matplotlib.pyplot.plot(np.ones(N)*m3)\n",
    "    matplotlib.pyplot.xscale('log')\n",
    "    matplotlib.pyplot.show()\n",
    "    \n",
    "    return cumulative_average"
   ]
  },
  {
   "cell_type": "code",
   "execution_count": 11,
   "metadata": {},
   "outputs": [
    {
     "name": "stdout",
     "output_type": "stream",
     "text": [
      "1.5652048230863604\n",
      "-0.15455932901274183\n",
      "2.9980046265150966\n"
     ]
    },
    {
     "data": {
      "image/png": "[encoded data removed]",
      "text/plain": [
       "<Figure size 432x288 with 1 Axes>"
      ]
     },
     "metadata": {
      "needs_background": "light"
     },
     "output_type": "display_data"
    },
    {
     "data": {
      "text/plain": [
       "<matplotlib.legend.Legend at 0x2be3f188348>"
      ]
     },
     "execution_count": 11,
     "metadata": {},
     "output_type": "execute_result"
    },
    {
     "data": {
      "image/png": "[encoded data removed]",
      "text/plain": [
       "<Figure size 432x288 with 1 Axes>"
      ]
     },
     "metadata": {
      "needs_background": "light"
     },
     "output_type": "display_data"
    }
   ],
   "source": [
    "c_01 = run_experiment_opt(1.0,2.0,3.0,10000,10)\n",
    "matplotlib.pyplot.plot(c_01,label='optimal initial values')\n",
    "matplotlib.pyplot.legend()"
   ]
  },
  {
   "cell_type": "markdown",
   "metadata": {},
   "source": [
    "# UCB1"
   ]
  },
  {
   "cell_type": "markdown",
   "metadata": {},
   "source": [
    "Confidence bounds. The more samples we take, the stricter the range of certainty becomes. Confidence increases.\n",
    "It is demonstrated by th eChernoff-Hoeffding bound:\n",
    "P(|X - μ| >= e) <= 2 exp(-2 e^2 N)"
   ]
  },
  {
   "cell_type": "markdown",
   "metadata": {},
   "source": [
    "It turns out that we have to schose epsilon to be sqrt(2*ln(N)/Nj)\n",
    "where N is the total number of times I played and Nj the number of times I played bandit j.\n",
    "It works by being greedy with respect to the upper bound of the sample mean,\n",
    "Xucb = Xj + sqrt(2*ln(N)/Nj)\n",
    "\n",
    "if Nj small then the upper bound is high.\n",
    "ln(N) grows more slowly than Nj so all upper bounds will shrink as I play more and more, so it converges to sample means which will be greedy.\n",
    "\n",
    "We can add a small number to the denominator in case Nj is zero"
   ]
  },
  {
   "cell_type": "code",
   "execution_count": 58,
   "metadata": {},
   "outputs": [],
   "source": [
    "class Bandit_ucb():\n",
    "    def __init__(self, m, upper_limit):\n",
    "        self.m = m  # return of the bandit\n",
    "        self.mean = upper_limit # mean return \n",
    "        self.N = 0.1 # number of times the bandit was pulled\n",
    "    \n",
    "    def pull(self):\n",
    "        return np.random.randn() + self.m # mean m but action returns a gaussian around it\n",
    "    \n",
    "    def update(self,x):\n",
    "        self.N = math.floor(self.N) + 1\n",
    "        self.mean = (1 - 1.0/self.N)*self.mean + 1.0/self.N * x"
   ]
  },
  {
   "cell_type": "code",
   "execution_count": 59,
   "metadata": {},
   "outputs": [],
   "source": [
    "def run_experiment_ucb(m1,m2,m3,N,upper_limit):\n",
    "    bandits = [Bandit_ucb(m1,upper_limit), Bandit_ucb(m2,upper_limit), Bandit_ucb(m3,upper_limit)]\n",
    "    data = np.empty(N) # number of trial pulls\n",
    "    \n",
    "    for i in range(1,N):\n",
    "        j = np.argmax([(b.mean + np.sqrt(2*np.log(i)/(b.N))) for b in bandits]) # else we pull the greedy with respect to UCB bandit\n",
    "        x = bandits[j].pull() # the outcome of the pull\n",
    "        bandits[j].update(x) # we update the chosen bandit's mean\n",
    "        \n",
    "        #for the overall plot\n",
    "        data[i]=x # sequence of returns\n",
    "    for b in bandits:\n",
    "        print(b.mean)\n",
    "        \n",
    "    cumulative_average = np.cumsum(data)/(np.arange(N)+1)\n",
    "    \n",
    "    matplotlib.pyplot.plot(cumulative_average)\n",
    "    matplotlib.pyplot.plot(np.ones(N)*m1)\n",
    "    matplotlib.pyplot.plot(np.ones(N)*m2)\n",
    "    matplotlib.pyplot.plot(np.ones(N)*m3)\n",
    "    matplotlib.pyplot.xscale('log')\n",
    "    matplotlib.pyplot.show()\n",
    "    \n",
    "    return cumulative_average"
   ]
  },
  {
   "cell_type": "code",
   "execution_count": 60,
   "metadata": {},
   "outputs": [
    {
     "name": "stdout",
     "output_type": "stream",
     "text": [
      "0.5333808005983134\n",
      "2.1658975227864157\n",
      "3.0051915020759394\n"
     ]
    },
    {
     "data": {
      "image/png": "[encoded data removed]",
      "text/plain": [
       "<Figure size 432x288 with 1 Axes>"
      ]
     },
     "metadata": {
      "needs_background": "light"
     },
     "output_type": "display_data"
    },
    {
     "data": {
      "text/plain": [
       "<matplotlib.legend.Legend at 0x1b9a2443bc8>"
      ]
     },
     "execution_count": 60,
     "metadata": {},
     "output_type": "execute_result"
    },
    {
     "data": {
      "image/png": "[encoded data removed]",
      "text/plain": [
       "<Figure size 432x288 with 1 Axes>"
      ]
     },
     "metadata": {
      "needs_background": "light"
     },
     "output_type": "display_data"
    }
   ],
   "source": [
    "c_01 = run_experiment_ucb(1.0,2.0,3.0,10000,10)\n",
    "matplotlib.pyplot.plot(c_01,label='UCB')\n",
    "matplotlib.pyplot.legend()"
   ]
  },
  {
   "cell_type": "code",
   "execution_count": null,
   "metadata": {},
   "outputs": [],
   "source": []
  }
 ],
 "metadata": {
  "kernelspec": {
   "display_name": "Python 3",
   "language": "python",
   "name": "python3"
  },
  "language_info": {
   "codemirror_mode": {
    "name": "ipython",
    "version": 3
   },
   "file_extension": ".py",
   "mimetype": "text/x-python",
   "name": "python",
   "nbconvert_exporter": "python",
   "pygments_lexer": "ipython3",
   "version": "3.7.5"
  }
 },
 "nbformat": 4,
 "nbformat_minor": 2
}
